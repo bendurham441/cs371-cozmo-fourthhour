{
 "cells": [
  {
   "attachments": {},
   "cell_type": "markdown",
   "metadata": {},
   "source": [
    "### Picture Taking and Panorama Creation\n",
    "This file contains the procedures to rotate the robot 360 degrees and then to construct a panorama for use in the localization process.\n",
    "\n",
    "Below are listed the necessary imports. \n",
    "- `cozmo` allows us to run instructions on the robot, specifically the rotation in this case\n",
    "- `cv2` allows us to stitch the 36 images together\n",
    "- `os` is used for help creating file paths for the 36 stored partial images and the final panorama"
   ]
  },
  {
   "cell_type": "code",
   "execution_count": 8,
   "metadata": {},
   "outputs": [],
   "source": [
    "#from PIL import Image\n",
    "import cozmo\n",
    "from cozmo.util import degrees\n",
    "import cv2\n",
    "import os"
   ]
  },
  {
   "attachments": {},
   "cell_type": "markdown",
   "metadata": {},
   "source": [
    "#### Directory configuration\n",
    "\n",
    "The following two cells define the file path where the 36 images are to be stored so as not to clutter the main directory with the script and Jupyter notebook files. We create a subfolder pictures where the images will be stored. The second cell actually creates the directory, if it hasn't already been created."
   ]
  },
  {
   "cell_type": "code",
   "execution_count": 9,
   "metadata": {},
   "outputs": [],
   "source": [
    "# File path configuration\n",
    "parent_dir = \"/home/bendurham441/Documents/cs371-cozmo-fourthhour\"\n",
    "path = os.path.join(parent_dir, \"pictures\")"
   ]
  },
  {
   "cell_type": "code",
   "execution_count": 10,
   "metadata": {},
   "outputs": [
    {
     "name": "stdout",
     "output_type": "stream",
     "text": [
      "Directory already exists\n"
     ]
    }
   ],
   "source": [
    "# Only needs to be run once\n",
    "try:\n",
    "    os.mkdir(path)\n",
    "except FileExistsError:\n",
    "    print(\"Directory already exists\")"
   ]
  },
  {
   "attachments": {},
   "cell_type": "markdown",
   "metadata": {},
   "source": [
    "#### Picture Taking\n",
    "\n",
    "The following block defines a function that rotates the robot in 10 degree increments, taking a picture each time. These images are stored in the previously specified directory.\n",
    "\n",
    "From what we have gathered, a photo must be annotated using `annotate_image()` prior to using `convert()`. Only after these two functions have been invoked on the image can we save the image as a JPEG."
   ]
  },
  {
   "cell_type": "code",
   "execution_count": 11,
   "metadata": {},
   "outputs": [],
   "source": [
    "def take_pictures(robot: cozmo.robot.Robot):\n",
    "  # Initial setup, generate repeatable head angle and lift height\n",
    "  robot.say_text(\"Okay here we go\").wait_for_completed()\n",
    "  move_arms = robot.set_lift_height(0)\n",
    "  move_arms.wait_for_completed()\n",
    "  set_head = robot.set_head_angle((cozmo.robot.MAX_HEAD_ANGLE) / 3, in_parallel = True)\n",
    "  set_head.wait_for_completed()\n",
    "  # Enabling Cozmo Camera\n",
    "  robot.camera.image_stream_enabled = True\n",
    "  \n",
    "  # Saves picture of what Cozmo sees every 10 degrees.\n",
    "  for d in range(36):\n",
    "    fileName = \"takingpics\" + str(d * 10) + \".jpeg\"\n",
    " \n",
    "    robot.turn_in_place(degrees(10)).wait_for_completed()\n",
    "    \n",
    "    latest_image = robot.world.latest_image\n",
    "    # annotation seems to be important, we have had issues saving images if we don't annotate\n",
    "    annotated = latest_image.annotate_image()\n",
    "\n",
    "    if latest_image is not None:\n",
    "      print(\"image = %s\" % latest_image)\n",
    "      converted = annotated.convert()\n",
    "      file_path = os.path.join(path, fileName)\n",
    "      converted.save(file_path, \"JPEG\", resolution=10)"
   ]
  },
  {
   "cell_type": "code",
   "execution_count": 12,
   "metadata": {},
   "outputs": [
    {
     "name": "stderr",
     "output_type": "stream",
     "text": [
      "/home/bendurham441/.local/lib/python3.8/site-packages/cozmo/event.py:488: DeprecationWarning: The loop argument is deprecated since Python 3.8, and scheduled for removal in Python 3.10.\n",
      "  return await asyncio.wait_for(f, timeout, loop=self._loop)\n",
      "2023-04-21 16:12:59,318 cozmo.general INFO     App connection established. sdk_version=1.4.10 cozmoclad_version=3.4.0 app_build_version=00003.00004.00000\n",
      "2023-04-21 16:12:59,318 cozmo.general INFO     App connection established. sdk_version=1.4.10 cozmoclad_version=3.4.0 app_build_version=00003.00004.00000\n",
      "2023-04-21 16:12:59,321 cozmo.general INFO     Found robot id=1\n",
      "2023-04-21 16:12:59,321 cozmo.general INFO     Found robot id=1\n",
      "2023-04-21 16:12:59,331 cozmo.general INFO     Connected to Android device serial=89c6ff8d\n",
      "2023-04-21 16:12:59,331 cozmo.general INFO     Connected to Android device serial=89c6ff8d\n",
      "2023-04-21 16:12:59,466 cozmo.general INFO     Robot id=1 serial=4322be95 initialized OK\n",
      "2023-04-21 16:12:59,466 cozmo.general INFO     Robot id=1 serial=4322be95 initialized OK\n"
     ]
    },
    {
     "name": "stdout",
     "output_type": "stream",
     "text": [
      "image = <cozmo.world.CameraImage object at 0x7f22201e2fd0>\n",
      "image = <cozmo.world.CameraImage object at 0x7f22201e2a60>\n",
      "image = <cozmo.world.CameraImage object at 0x7f2221228e50>\n",
      "image = <cozmo.world.CameraImage object at 0x7f22201e26a0>\n",
      "image = <cozmo.world.CameraImage object at 0x7f22201d9280>\n",
      "image = <cozmo.world.CameraImage object at 0x7f2221228e50>\n",
      "image = <cozmo.world.CameraImage object at 0x7f22211f8fa0>\n",
      "image = <cozmo.world.CameraImage object at 0x7f22211daf40>\n",
      "image = <cozmo.world.CameraImage object at 0x7f2221223a30>\n",
      "image = <cozmo.world.CameraImage object at 0x7f2221223370>\n",
      "image = <cozmo.world.CameraImage object at 0x7f22211f8fa0>\n",
      "image = <cozmo.world.CameraImage object at 0x7f22201e2940>\n",
      "image = <cozmo.world.CameraImage object at 0x7f2221223040>\n",
      "image = <cozmo.world.CameraImage object at 0x7f22201e2d60>\n",
      "image = <cozmo.world.CameraImage object at 0x7f2221228fd0>\n",
      "image = <cozmo.world.CameraImage object at 0x7f22201e27c0>\n",
      "image = <cozmo.world.CameraImage object at 0x7f22201e2a00>\n",
      "image = <cozmo.world.CameraImage object at 0x7f22201e2eb0>\n",
      "image = <cozmo.world.CameraImage object at 0x7f22201d9d30>\n",
      "image = <cozmo.world.CameraImage object at 0x7f22201e29a0>\n",
      "image = <cozmo.world.CameraImage object at 0x7f22212232b0>\n",
      "image = <cozmo.world.CameraImage object at 0x7f22212d8430>\n",
      "image = <cozmo.world.CameraImage object at 0x7f22212d89a0>\n",
      "image = <cozmo.world.CameraImage object at 0x7f22212238e0>\n",
      "image = <cozmo.world.CameraImage object at 0x7f22201d9280>\n",
      "image = <cozmo.world.CameraImage object at 0x7f2221228e20>\n",
      "image = <cozmo.world.CameraImage object at 0x7f22201e2d90>\n",
      "image = <cozmo.world.CameraImage object at 0x7f22212d8370>\n",
      "image = <cozmo.world.CameraImage object at 0x7f22212ec4c0>\n",
      "image = <cozmo.world.CameraImage object at 0x7f22212ecd00>\n",
      "image = <cozmo.world.CameraImage object at 0x7f22212ec040>\n",
      "image = <cozmo.world.CameraImage object at 0x7f22212d8040>\n",
      "image = <cozmo.world.CameraImage object at 0x7f2221223e20>\n",
      "image = <cozmo.world.CameraImage object at 0x7f22201d9f10>\n",
      "image = <cozmo.world.CameraImage object at 0x7f22201d99d0>\n"
     ]
    },
    {
     "name": "stderr",
     "output_type": "stream",
     "text": [
      "2023-04-21 16:13:36,351 cozmo.general INFO     Shutting down connection\n",
      "2023-04-21 16:13:36,351 cozmo.general INFO     Shutting down connection\n",
      "2023-04-21 16:13:36,354 cozmo.general INFO     Android serial=89c6ff8d disconnected.\n",
      "2023-04-21 16:13:36,354 cozmo.general INFO     Android serial=89c6ff8d disconnected.\n"
     ]
    },
    {
     "name": "stdout",
     "output_type": "stream",
     "text": [
      "image = <cozmo.world.CameraImage object at 0x7f22201d9f10>\n"
     ]
    }
   ],
   "source": [
    "cozmo.run_program(take_pictures)"
   ]
  },
  {
   "attachments": {},
   "cell_type": "markdown",
   "metadata": {},
   "source": [
    "#### Stitching\n",
    "\n",
    "The following must be run only after the `pictures/` directory has been populated by running `taking_pictures()`. This block uses `cv2` to stitch the images together.\n",
    "\n",
    "##### Important observations:\n",
    "- At least in our experience, the stitching process can be erratic. Sometimes it takes only a few seconds, but we have observed cases where it takes up to as much as 5 minutes. It appears to differ by the environment. `cv2` stitching seems to struggle when we provide it with images where there are items very close by. Maybe this can be altered by altering the image inputs (maybe change the degree increments in which we are taking pictures?)"
   ]
  },
  {
   "cell_type": "code",
   "execution_count": 13,
   "metadata": {},
   "outputs": [],
   "source": [
    "def stitch():\n",
    "  print(\"Stitching\")\n",
    "  # construct an array of images to pass to the stitcher\n",
    "  images = []\n",
    "  for i in range(36):\n",
    "    # read images from the pictures folder\n",
    "    file_path = os.path.join(path, 'takingpics' + str((i * 10)) + \".jpeg\")\n",
    "    curr_image = cv2.imread(file_path)\n",
    "    images.append(curr_image)\n",
    "\n",
    "  # Stitch the provided images together\n",
    "  stitcher = cv2.Stitcher.create()\n",
    "  ret,pano = stitcher.stitch(images)\n",
    "  \n",
    "  # Output the final image to Panorama.jpeg\n",
    "  cv2.imwrite('Panorama.jpeg',pano)"
   ]
  },
  {
   "cell_type": "code",
   "execution_count": 14,
   "metadata": {},
   "outputs": [
    {
     "name": "stdout",
     "output_type": "stream",
     "text": [
      "Stitching\n"
     ]
    }
   ],
   "source": [
    "stitch()"
   ]
  }
 ],
 "metadata": {
  "kernelspec": {
   "display_name": "envname",
   "language": "python",
   "name": "python3"
  },
  "language_info": {
   "codemirror_mode": {
    "name": "ipython",
    "version": 3
   },
   "file_extension": ".py",
   "mimetype": "text/x-python",
   "name": "python",
   "nbconvert_exporter": "python",
   "pygments_lexer": "ipython3",
   "version": "3.8.16"
  },
  "orig_nbformat": 4
 },
 "nbformat": 4,
 "nbformat_minor": 2
}

{
 "cells": [
  {
   "cell_type": "code",
   "execution_count": 17,
   "metadata": {},
   "outputs": [],
   "source": [
    "from PIL import Image\n",
    "import cozmo\n",
    "import cv2\n",
    "from cozmo.util import degrees, distance_mm, speed_mmps\n",
    "import Stitching\n",
    "#import random\n",
    "#import Localize\n",
    "#import MCLocalize\n",
    "#import MotionUpdate\n",
    "#import Histogram\n",
    "#import sys\n",
    "import os"
   ]
  },
  {
   "cell_type": "code",
   "execution_count": 18,
   "metadata": {},
   "outputs": [
    {
     "ename": "FileExistsError",
     "evalue": "[Errno 17] File exists: '/home/bendurham441/Documents/cs371-cozmo-fourthhour/pictures'",
     "output_type": "error",
     "traceback": [
      "\u001b[0;31m---------------------------------------------------------------------------\u001b[0m",
      "\u001b[0;31mFileExistsError\u001b[0m                           Traceback (most recent call last)",
      "Cell \u001b[0;32mIn[18], line 5\u001b[0m\n\u001b[1;32m      3\u001b[0m parent_dir \u001b[39m=\u001b[39m \u001b[39m\"\u001b[39m\u001b[39m/home/bendurham441/Documents/cs371-cozmo-fourthhour\u001b[39m\u001b[39m\"\u001b[39m\n\u001b[1;32m      4\u001b[0m path \u001b[39m=\u001b[39m os\u001b[39m.\u001b[39mpath\u001b[39m.\u001b[39mjoin(parent_dir, \u001b[39m\"\u001b[39m\u001b[39mpictures\u001b[39m\u001b[39m\"\u001b[39m)\n\u001b[0;32m----> 5\u001b[0m os\u001b[39m.\u001b[39;49mmkdir(path)\n",
      "\u001b[0;31mFileExistsError\u001b[0m: [Errno 17] File exists: '/home/bendurham441/Documents/cs371-cozmo-fourthhour/pictures'"
     ]
    }
   ],
   "source": [
    "# File path configuration\n",
    "# Only need to run this once\n",
    "parent_dir = \"/home/bendurham441/Documents/cs371-cozmo-fourthhour\"\n",
    "path = os.path.join(parent_dir, \"pictures\")\n",
    "os.mkdir(path)"
   ]
  },
  {
   "cell_type": "code",
   "execution_count": 19,
   "metadata": {},
   "outputs": [],
   "source": [
    "def cozmo_program(robot: cozmo.robot.Robot):\n",
    "  robot.say_text(\"Okay Here we goooooooo\").wait_for_completed()\n",
    "  move_arms = robot.set_lift_height(0)\n",
    "  move_arms.wait_for_completed()\n",
    "  set_head = robot.set_head_angle((cozmo.robot.MAX_HEAD_ANGLE) / 3, in_parallel = True)\n",
    "  set_head.wait_for_completed()\n",
    "  # Enabling Cozmo Camera\n",
    "  robot.camera.image_stream_enabled = True\n",
    "  \n",
    "  # Saves picture of what Cozmo sees every 10 degrees.\n",
    "  degree = 0\n",
    "  while(degree < 360) :\n",
    "    fileName = \"takingpics\" + str(degree)\n",
    " \n",
    "    robot.turn_in_place(degrees(10)).wait_for_completed()\n",
    "    \n",
    "    latest_image = robot.world.latest_image\n",
    "    annotated = latest_image.annotate_image()\n",
    "    if latest_image is not None:\n",
    "      print(\"image = %s\" % latest_image)\n",
    "      converted = annotated.convert()\n",
    "      file_path = os.path.join(path, fileName)\n",
    "      converted.save(file_path, \"JPEG\", resolution=10)\n",
    "    degree += 10"
   ]
  },
  {
   "cell_type": "code",
   "execution_count": 21,
   "metadata": {},
   "outputs": [
    {
     "name": "stderr",
     "output_type": "stream",
     "text": [
      "/home/bendurham441/.local/lib/python3.8/site-packages/cozmo/event.py:488: DeprecationWarning: The loop argument is deprecated since Python 3.8, and scheduled for removal in Python 3.10.\n",
      "  return await asyncio.wait_for(f, timeout, loop=self._loop)\n",
      "2023-04-14 15:44:58,294 cozmo.general INFO     App connection established. sdk_version=1.4.10 cozmoclad_version=3.4.0 app_build_version=00003.00004.00000\n",
      "2023-04-14 15:44:58,294 cozmo.general INFO     App connection established. sdk_version=1.4.10 cozmoclad_version=3.4.0 app_build_version=00003.00004.00000\n",
      "2023-04-14 15:44:58,294 cozmo.general INFO     App connection established. sdk_version=1.4.10 cozmoclad_version=3.4.0 app_build_version=00003.00004.00000\n",
      "2023-04-14 15:44:58,294 cozmo.general INFO     App connection established. sdk_version=1.4.10 cozmoclad_version=3.4.0 app_build_version=00003.00004.00000\n",
      "2023-04-14 15:44:58,294 cozmo.general INFO     App connection established. sdk_version=1.4.10 cozmoclad_version=3.4.0 app_build_version=00003.00004.00000\n",
      "2023-04-14 15:44:58,301 cozmo.general INFO     Found robot id=1\n",
      "2023-04-14 15:44:58,301 cozmo.general INFO     Found robot id=1\n",
      "2023-04-14 15:44:58,301 cozmo.general INFO     Found robot id=1\n",
      "2023-04-14 15:44:58,301 cozmo.general INFO     Found robot id=1\n",
      "2023-04-14 15:44:58,301 cozmo.general INFO     Found robot id=1\n",
      "2023-04-14 15:44:58,310 cozmo.general INFO     Connected to Android device serial=89c6ff8d\n",
      "2023-04-14 15:44:58,310 cozmo.general INFO     Connected to Android device serial=89c6ff8d\n",
      "2023-04-14 15:44:58,310 cozmo.general INFO     Connected to Android device serial=89c6ff8d\n",
      "2023-04-14 15:44:58,310 cozmo.general INFO     Connected to Android device serial=89c6ff8d\n",
      "2023-04-14 15:44:58,310 cozmo.general INFO     Connected to Android device serial=89c6ff8d\n",
      "2023-04-14 15:44:58,421 cozmo.general INFO     Robot id=1 serial=4322be95 initialized OK\n",
      "2023-04-14 15:44:58,421 cozmo.general INFO     Robot id=1 serial=4322be95 initialized OK\n",
      "2023-04-14 15:44:58,421 cozmo.general INFO     Robot id=1 serial=4322be95 initialized OK\n",
      "2023-04-14 15:44:58,421 cozmo.general INFO     Robot id=1 serial=4322be95 initialized OK\n",
      "2023-04-14 15:44:58,421 cozmo.general INFO     Robot id=1 serial=4322be95 initialized OK\n"
     ]
    },
    {
     "name": "stdout",
     "output_type": "stream",
     "text": [
      "image = <cozmo.world.CameraImage object at 0x7f1e68d674c0>\n",
      "image = <cozmo.world.CameraImage object at 0x7f1e68f4ce50>\n",
      "image = <cozmo.world.CameraImage object at 0x7f1e68f4cac0>\n",
      "image = <cozmo.world.CameraImage object at 0x7f1e68f4c2e0>\n",
      "image = <cozmo.world.CameraImage object at 0x7f1e68d18820>\n",
      "image = <cozmo.world.CameraImage object at 0x7f1e68d8ca90>\n",
      "image = <cozmo.world.CameraImage object at 0x7f1e68f4c070>\n",
      "image = <cozmo.world.CameraImage object at 0x7f1e68d83b20>\n",
      "image = <cozmo.world.CameraImage object at 0x7f1e68d837f0>\n",
      "image = <cozmo.world.CameraImage object at 0x7f1e68d83580>\n",
      "image = <cozmo.world.CameraImage object at 0x7f1e68d833d0>\n",
      "image = <cozmo.world.CameraImage object at 0x7f1e68d20d60>\n",
      "image = <cozmo.world.CameraImage object at 0x7f1e68d189d0>\n",
      "image = <cozmo.world.CameraImage object at 0x7f1e68d67fa0>\n",
      "image = <cozmo.world.CameraImage object at 0x7f1e68f4cf10>\n",
      "image = <cozmo.world.CameraImage object at 0x7f1e68d846d0>\n",
      "image = <cozmo.world.CameraImage object at 0x7f1e68f4bf10>\n",
      "image = <cozmo.world.CameraImage object at 0x7f1e68f4c190>\n",
      "image = <cozmo.world.CameraImage object at 0x7f1e68d18bb0>\n",
      "image = <cozmo.world.CameraImage object at 0x7f1e68d84b20>\n",
      "image = <cozmo.world.CameraImage object at 0x7f1e68d18640>\n",
      "image = <cozmo.world.CameraImage object at 0x7f1e68d7c490>\n",
      "image = <cozmo.world.CameraImage object at 0x7f1e68d8c070>\n",
      "image = <cozmo.world.CameraImage object at 0x7f1e68d8c5e0>\n",
      "image = <cozmo.world.CameraImage object at 0x7f1e68d20880>\n",
      "image = <cozmo.world.CameraImage object at 0x7f1e68d67700>\n",
      "image = <cozmo.world.CameraImage object at 0x7f1e68d18640>\n",
      "image = <cozmo.world.CameraImage object at 0x7f1e68d678b0>\n",
      "image = <cozmo.world.CameraImage object at 0x7f1e68d18400>\n",
      "image = <cozmo.world.CameraImage object at 0x7f1e691d2eb0>\n",
      "image = <cozmo.world.CameraImage object at 0x7f1e68f4cf10>\n",
      "image = <cozmo.world.CameraImage object at 0x7f1e68d18b20>\n",
      "image = <cozmo.world.CameraImage object at 0x7f1e68d67460>\n",
      "image = <cozmo.world.CameraImage object at 0x7f1e68f4ce50>\n",
      "image = <cozmo.world.CameraImage object at 0x7f1e68d8c070>\n"
     ]
    },
    {
     "name": "stderr",
     "output_type": "stream",
     "text": [
      "2023-04-14 15:45:35,093 cozmo.general INFO     Shutting down connection\n",
      "2023-04-14 15:45:35,093 cozmo.general INFO     Shutting down connection\n",
      "2023-04-14 15:45:35,093 cozmo.general INFO     Shutting down connection\n",
      "2023-04-14 15:45:35,093 cozmo.general INFO     Shutting down connection\n",
      "2023-04-14 15:45:35,093 cozmo.general INFO     Shutting down connection\n",
      "2023-04-14 15:45:35,099 cozmo.general INFO     Android serial=89c6ff8d disconnected.\n",
      "2023-04-14 15:45:35,099 cozmo.general INFO     Android serial=89c6ff8d disconnected.\n",
      "2023-04-14 15:45:35,099 cozmo.general INFO     Android serial=89c6ff8d disconnected.\n",
      "2023-04-14 15:45:35,099 cozmo.general INFO     Android serial=89c6ff8d disconnected.\n",
      "2023-04-14 15:45:35,099 cozmo.general INFO     Android serial=89c6ff8d disconnected.\n"
     ]
    },
    {
     "name": "stdout",
     "output_type": "stream",
     "text": [
      "image = <cozmo.world.CameraImage object at 0x7f1e68d8c430>\n"
     ]
    }
   ],
   "source": [
    "cozmo.run_program(cozmo_program)"
   ]
  },
  {
   "cell_type": "code",
   "execution_count": 22,
   "metadata": {},
   "outputs": [],
   "source": [
    "def stitch():\n",
    "  print(\"\\n\\n\\n!!!!! STITCH !!! \\n\\n\\n\\n\")\n",
    "  images = []\n",
    "  for i in range(36):\n",
    "    file_path = os.path.join(path, 'takingpics' + str((i * 10)))\n",
    "    images.append(cv2.imread(file_path))    \n",
    "  stitcher = cv2.Stitcher.create()\n",
    "  ret,pano = stitcher.stitch(images)\n",
    "  cv2.imwrite('Panorama.jpeg',pano)"
   ]
  },
  {
   "cell_type": "code",
   "execution_count": 23,
   "metadata": {},
   "outputs": [
    {
     "name": "stdout",
     "output_type": "stream",
     "text": [
      "\n",
      "\n",
      "\n",
      "!!!!! STITCH !!! \n",
      "\n",
      "\n",
      "\n",
      "\n",
      "0\n",
      "1\n",
      "2\n",
      "3\n",
      "4\n",
      "5\n",
      "6\n",
      "7\n",
      "8\n",
      "9\n",
      "10\n",
      "11\n",
      "12\n",
      "13\n",
      "14\n",
      "15\n",
      "16\n",
      "17\n",
      "18\n",
      "19\n",
      "20\n",
      "21\n",
      "22\n",
      "23\n",
      "24\n",
      "25\n",
      "26\n",
      "27\n",
      "28\n",
      "29\n",
      "30\n",
      "31\n",
      "32\n",
      "33\n",
      "34\n",
      "35\n",
      "got here\n",
      "test\n"
     ]
    }
   ],
   "source": [
    "stitch()"
   ]
  }
 ],
 "metadata": {
  "kernelspec": {
   "display_name": "envname",
   "language": "python",
   "name": "python3"
  },
  "language_info": {
   "codemirror_mode": {
    "name": "ipython",
    "version": 3
   },
   "file_extension": ".py",
   "mimetype": "text/x-python",
   "name": "python",
   "nbconvert_exporter": "python",
   "pygments_lexer": "ipython3",
   "version": "3.8.16"
  },
  "orig_nbformat": 4
 },
 "nbformat": 4,
 "nbformat_minor": 2
}

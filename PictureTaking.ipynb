{
 "cells": [
  {
   "cell_type": "code",
   "execution_count": 11,
   "metadata": {},
   "outputs": [],
   "source": [
    "from PIL import Image\n",
    "import cozmo\n",
    "import cv2\n",
    "from cozmo.util import degrees, distance_mm, speed_mmps\n",
    "import Stitching\n",
    "#import random\n",
    "#import Localize\n",
    "#import MCLocalize\n",
    "#import MotionUpdate\n",
    "#import Histogram\n",
    "#import sys\n",
    "import os"
   ]
  },
  {
   "cell_type": "code",
   "execution_count": 2,
   "metadata": {},
   "outputs": [
    {
     "ename": "FileExistsError",
     "evalue": "[Errno 17] File exists: '/home/bendurham441/Documents/cs371-cozmo-fourthhour/pictures'",
     "output_type": "error",
     "traceback": [
      "\u001b[0;31m---------------------------------------------------------------------------\u001b[0m",
      "\u001b[0;31mFileExistsError\u001b[0m                           Traceback (most recent call last)",
      "Cell \u001b[0;32mIn[2], line 5\u001b[0m\n\u001b[1;32m      3\u001b[0m parent_dir \u001b[39m=\u001b[39m \u001b[39m\"\u001b[39m\u001b[39m/home/bendurham441/Documents/cs371-cozmo-fourthhour\u001b[39m\u001b[39m\"\u001b[39m\n\u001b[1;32m      4\u001b[0m path \u001b[39m=\u001b[39m os\u001b[39m.\u001b[39mpath\u001b[39m.\u001b[39mjoin(parent_dir, \u001b[39m\"\u001b[39m\u001b[39mpictures\u001b[39m\u001b[39m\"\u001b[39m)\n\u001b[0;32m----> 5\u001b[0m os\u001b[39m.\u001b[39;49mmkdir(path)\n",
      "\u001b[0;31mFileExistsError\u001b[0m: [Errno 17] File exists: '/home/bendurham441/Documents/cs371-cozmo-fourthhour/pictures'"
     ]
    }
   ],
   "source": [
    "# File path configuration\n",
    "# Only need to run this once\n",
    "parent_dir = \"/home/bendurham441/Documents/cs371-cozmo-fourthhour\"\n",
    "path = os.path.join(parent_dir, \"pictures\")\n",
    "os.mkdir(path)"
   ]
  },
  {
   "cell_type": "code",
   "execution_count": 12,
   "metadata": {},
   "outputs": [],
   "source": [
    "def cozmo_program(robot: cozmo.robot.Robot):\n",
    "  robot.say_text(\"Okay Here we goooooooo\").wait_for_completed()\n",
    "  move_arms = robot.set_lift_height(0)\n",
    "  move_arms.wait_for_completed()\n",
    "  set_head = robot.set_head_angle((cozmo.robot.MAX_HEAD_ANGLE) / 3, in_parallel = True)\n",
    "  set_head.wait_for_completed()\n",
    "  # Enabling Cozmo Camera\n",
    "  robot.camera.image_stream_enabled = True\n",
    "  \n",
    "  # Saves picture of what Cozmo sees every 10 degrees.\n",
    "  degree = 0\n",
    "  while(degree < 360) :\n",
    "    fileName = \"takingpics\" + str(degree)\n",
    " \n",
    "    robot.turn_in_place(degrees(10)).wait_for_completed()\n",
    "    \n",
    "    latest_image = robot.world.latest_image\n",
    "    annotated = latest_image.annotate_image()\n",
    "    if latest_image is not None:\n",
    "      print(\"image = %s\" % latest_image)\n",
    "      converted = annotated.convert()\n",
    "      file_path = os.path.join(path, fileName)\n",
    "      converted.save(file_path, \"JPEG\", resolution=10)\n",
    "    degree += 10"
   ]
  },
  {
   "cell_type": "code",
   "execution_count": 13,
   "metadata": {},
   "outputs": [
    {
     "name": "stderr",
     "output_type": "stream",
     "text": [
      "/home/bendurham441/.local/lib/python3.8/site-packages/cozmo/event.py:488: DeprecationWarning: The loop argument is deprecated since Python 3.8, and scheduled for removal in Python 3.10.\n",
      "  return await asyncio.wait_for(f, timeout, loop=self._loop)\n",
      "2023-04-14 12:50:14,234 cozmo.general INFO     App connection established. sdk_version=1.4.10 cozmoclad_version=3.4.0 app_build_version=00003.00004.00000\n",
      "2023-04-14 12:50:14,234 cozmo.general INFO     App connection established. sdk_version=1.4.10 cozmoclad_version=3.4.0 app_build_version=00003.00004.00000\n",
      "2023-04-14 12:50:14,234 cozmo.general INFO     App connection established. sdk_version=1.4.10 cozmoclad_version=3.4.0 app_build_version=00003.00004.00000\n",
      "2023-04-14 12:50:14,240 cozmo.general INFO     Found robot id=1\n",
      "2023-04-14 12:50:14,240 cozmo.general INFO     Found robot id=1\n",
      "2023-04-14 12:50:14,240 cozmo.general INFO     Found robot id=1\n",
      "2023-04-14 12:50:14,254 cozmo.general INFO     Connected to Android device serial=89c6ff8d\n",
      "2023-04-14 12:50:14,254 cozmo.general INFO     Connected to Android device serial=89c6ff8d\n",
      "2023-04-14 12:50:14,254 cozmo.general INFO     Connected to Android device serial=89c6ff8d\n",
      "2023-04-14 12:50:14,407 cozmo.general INFO     Robot id=1 serial=4322be95 initialized OK\n",
      "2023-04-14 12:50:14,407 cozmo.general INFO     Robot id=1 serial=4322be95 initialized OK\n",
      "2023-04-14 12:50:14,407 cozmo.general INFO     Robot id=1 serial=4322be95 initialized OK\n"
     ]
    },
    {
     "name": "stdout",
     "output_type": "stream",
     "text": [
      "image = <cozmo.world.CameraImage object at 0x7f1e69c7ed60>\n",
      "image = <cozmo.world.CameraImage object at 0x7f1e6956a2b0>\n",
      "image = <cozmo.world.CameraImage object at 0x7f1e4d8f13a0>\n",
      "image = <cozmo.world.CameraImage object at 0x7f1e4d923460>\n",
      "image = <cozmo.world.CameraImage object at 0x7f1e90259610>\n",
      "image = <cozmo.world.CameraImage object at 0x7f1e695331c0>\n",
      "image = <cozmo.world.CameraImage object at 0x7f1e69533e50>\n",
      "image = <cozmo.world.CameraImage object at 0x7f1e6953d790>\n",
      "image = <cozmo.world.CameraImage object at 0x7f1e6953d340>\n",
      "image = <cozmo.world.CameraImage object at 0x7f1e4d9782b0>\n",
      "image = <cozmo.world.CameraImage object at 0x7f1e69b9b130>\n",
      "image = <cozmo.world.CameraImage object at 0x7f1e4d9782b0>\n",
      "image = <cozmo.world.CameraImage object at 0x7f1e69c7ed60>\n",
      "image = <cozmo.world.CameraImage object at 0x7f1e69b8f4c0>\n",
      "image = <cozmo.world.CameraImage object at 0x7f1e69bacdc0>\n",
      "image = <cozmo.world.CameraImage object at 0x7f1e4d978580>\n",
      "image = <cozmo.world.CameraImage object at 0x7f1e6956aaf0>\n",
      "image = <cozmo.world.CameraImage object at 0x7f1e69b9b3d0>\n",
      "image = <cozmo.world.CameraImage object at 0x7f1e4d978a90>\n",
      "image = <cozmo.world.CameraImage object at 0x7f1e6953d250>\n",
      "image = <cozmo.world.CameraImage object at 0x7f1e69b8f190>\n",
      "image = <cozmo.world.CameraImage object at 0x7f1e69533bb0>\n",
      "image = <cozmo.world.CameraImage object at 0x7f1e69533c10>\n",
      "image = <cozmo.world.CameraImage object at 0x7f1e6953d790>\n",
      "image = <cozmo.world.CameraImage object at 0x7f1e69533ca0>\n",
      "image = <cozmo.world.CameraImage object at 0x7f1e69533f70>\n",
      "image = <cozmo.world.CameraImage object at 0x7f1e69533eb0>\n",
      "image = <cozmo.world.CameraImage object at 0x7f1e695338e0>\n",
      "image = <cozmo.world.CameraImage object at 0x7f1e69b7c100>\n",
      "image = <cozmo.world.CameraImage object at 0x7f1e69be38e0>\n",
      "image = <cozmo.world.CameraImage object at 0x7f1e69bf0ee0>\n",
      "image = <cozmo.world.CameraImage object at 0x7f1e69b7ca00>\n",
      "image = <cozmo.world.CameraImage object at 0x7f1e6953ddc0>\n",
      "image = <cozmo.world.CameraImage object at 0x7f1e69b8f190>\n",
      "image = <cozmo.world.CameraImage object at 0x7f1e69bf0dc0>\n"
     ]
    },
    {
     "name": "stderr",
     "output_type": "stream",
     "text": [
      "2023-04-14 12:50:53,129 cozmo.general INFO     Shutting down connection\n",
      "2023-04-14 12:50:53,129 cozmo.general INFO     Shutting down connection\n",
      "2023-04-14 12:50:53,129 cozmo.general INFO     Shutting down connection\n",
      "2023-04-14 12:50:53,133 cozmo.general INFO     Android serial=89c6ff8d disconnected.\n",
      "2023-04-14 12:50:53,133 cozmo.general INFO     Android serial=89c6ff8d disconnected.\n",
      "2023-04-14 12:50:53,133 cozmo.general INFO     Android serial=89c6ff8d disconnected.\n"
     ]
    },
    {
     "name": "stdout",
     "output_type": "stream",
     "text": [
      "image = <cozmo.world.CameraImage object at 0x7f1e69b8feb0>\n"
     ]
    }
   ],
   "source": [
    "cozmo.run_program(cozmo_program)"
   ]
  },
  {
   "cell_type": "code",
   "execution_count": 8,
   "metadata": {},
   "outputs": [],
   "source": [
    "def run():\n",
    "  print(\"\\n\\n\\n!!!!! STITCH !!! \\n\\n\\n\\n\")\n",
    "  images = []\n",
    "  for i in range(36):\n",
    "    file_path = os.path.join(path, 'takingpics' + str((i * 10)))\n",
    "    images.append(cv2.imread(file_path))    \n",
    "    #cv2.imwrite(\"picture\" + str(i) + \".jpeg\", images[i]) \n",
    "    print(i)  \n",
    "  stitcher = cv2.Stitcher.create()\n",
    "  print(\"got here\")\n",
    "  ret,pano = stitcher.stitch(images)\n",
    "  print(\"test\")\n",
    "  cv2.imwrite('Panorama.jpeg',pano)"
   ]
  },
  {
   "cell_type": "code",
   "execution_count": 9,
   "metadata": {},
   "outputs": [
    {
     "name": "stdout",
     "output_type": "stream",
     "text": [
      "\n",
      "\n",
      "\n",
      "!!!!! STITCH !!! \n",
      "\n",
      "\n",
      "\n",
      "\n",
      "0\n",
      "1\n",
      "2\n",
      "3\n",
      "4\n",
      "5\n",
      "6\n",
      "7\n",
      "8\n",
      "9\n",
      "10\n",
      "11\n",
      "12\n",
      "13\n",
      "14\n",
      "15\n",
      "16\n",
      "17\n",
      "18\n",
      "19\n",
      "20\n",
      "21\n",
      "22\n",
      "23\n",
      "24\n",
      "25\n",
      "26\n",
      "27\n",
      "28\n",
      "29\n",
      "30\n",
      "31\n",
      "32\n",
      "33\n",
      "34\n",
      "35\n",
      "got here\n",
      "test\n"
     ]
    }
   ],
   "source": [
    "run()"
   ]
  }
 ],
 "metadata": {
  "kernelspec": {
   "display_name": "envname",
   "language": "python",
   "name": "python3"
  },
  "language_info": {
   "codemirror_mode": {
    "name": "ipython",
    "version": 3
   },
   "file_extension": ".py",
   "mimetype": "text/x-python",
   "name": "python",
   "nbconvert_exporter": "python",
   "pygments_lexer": "ipython3",
   "version": "3.8.16"
  },
  "orig_nbformat": 4
 },
 "nbformat": 4,
 "nbformat_minor": 2
}
